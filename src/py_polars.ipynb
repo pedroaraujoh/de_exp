{
 "cells": [
  {
   "cell_type": "code",
   "execution_count": null,
   "id": "631246b5",
   "metadata": {
    "lines_to_next_cell": 0
   },
   "outputs": [],
   "source": [
    "# import libs\n",
    "import kaggle\n",
    "import polars as pl"
   ]
  },
  {
   "cell_type": "code",
   "execution_count": null,
   "id": "5339ac96",
   "metadata": {
    "lines_to_next_cell": 0
   },
   "outputs": [
    {
     "data": {
      "text/plain": [
       "Dataset URL: https://www.kaggle.com/datasets/anandshaw2001/netflix-movies-and-tv-shows\n"
      ]
     },
     "metadata": {},
     "output_type": "display_data"
    }
   ],
   "source": [
    "# download dataset\n",
    "dataset = 'anandshaw2001/netflix-movies-and-tv-shows'\n",
    "path = f'C:/Users/pedro/Documents/Kaggle/{dataset}'\n",
    "kaggle.api.dataset_download_files(\n",
    "    dataset, \n",
    "    path=path,\n",
    "    unzip=True)"
   ]
  },
  {
   "cell_type": "code",
   "execution_count": null,
   "id": "2458eedb",
   "metadata": {
    "lines_to_next_cell": 0
   },
   "outputs": [],
   "source": [
    "# load to polars abordagem eager\n",
    "file = 'netflix_titles.csv'\n",
    "df = pl.read_csv(\n",
    "    f'{path}/{file}'\n",
    ")\n",
    "\n",
    "# load to polars abordagem lazy\n",
    "df_lazy = pl.scan_csv(\n",
    "    f'{path}/{file}'\n",
    ")"
   ]
  },
  {
   "cell_type": "code",
   "execution_count": null,
   "id": "1600327d",
   "metadata": {
    "lines_to_next_cell": 0
   },
   "outputs": [],
   "source": [
    "# simple manipulation (df / eager)\n",
    "df2 = df \\\n",
    "    .group_by('country') \\\n",
    "    .agg([\n",
    "        pl.len().alias('count'),\n",
    "        pl.median('release_year').alias('release_year_median')\n",
    "    ])\n",
    "df2"
   ]
  },
  {
   "cell_type": "code",
   "execution_count": null,
   "id": "d1f8a656",
   "metadata": {},
   "outputs": [],
   "source": [
    "# simple manipulation (sql / lazy)\n",
    "df3 = df_lazy.sql(\n",
    "    'select type, count(*) from self group by type'\n",
    ")\n",
    "df3.collect()"
   ]
  }
 ],
 "metadata": {
  "jupytext": {
   "cell_metadata_filter": "-all",
   "main_language": "python",
   "notebook_metadata_filter": "-all"
  },
  "language_info": {
   "name": "python"
  }
 },
 "nbformat": 4,
 "nbformat_minor": 5
}
