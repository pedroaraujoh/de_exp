{
 "cells": [
  {
   "cell_type": "code",
   "execution_count": 2,
   "id": "631246b5",
   "metadata": {
    "lines_to_next_cell": 0
   },
   "outputs": [],
   "source": [
    "# import libs\n",
    "import kaggle\n",
    "import polars as pl"
   ]
  },
  {
   "cell_type": "code",
   "execution_count": 3,
   "id": "5339ac96",
   "metadata": {
    "lines_to_next_cell": 0
   },
   "outputs": [
    {
     "name": "stdout",
     "output_type": "stream",
     "text": [
      "Dataset URL: https://www.kaggle.com/datasets/anandshaw2001/netflix-movies-and-tv-shows\n"
     ]
    }
   ],
   "source": [
    "# download dataset\n",
    "dataset = 'anandshaw2001/netflix-movies-and-tv-shows'\n",
    "path = f'C:/Users/pedro/Documents/Kaggle/{dataset}'\n",
    "kaggle.api.dataset_download_files(\n",
    "    dataset, \n",
    "    path=path,\n",
    "    unzip=True)"
   ]
  },
  {
   "cell_type": "code",
   "execution_count": 4,
   "id": "2458eedb",
   "metadata": {
    "lines_to_next_cell": 0
   },
   "outputs": [],
   "source": [
    "# load to polars abordagem eager\n",
    "file = 'netflix_titles.csv'\n",
    "df = pl.read_csv(\n",
    "    f'{path}/{file}'\n",
    ")\n",
    "\n",
    "# load to polars abordagem lazy\n",
    "df_lazy = pl.scan_csv(\n",
    "    f'{path}/{file}'\n",
    ")"
   ]
  },
  {
   "cell_type": "code",
   "execution_count": 5,
   "id": "1600327d",
   "metadata": {
    "lines_to_next_cell": 0
   },
   "outputs": [
    {
     "data": {
      "text/html": [
       "<div><style>\n",
       ".dataframe > thead > tr,\n",
       ".dataframe > tbody > tr {\n",
       "  text-align: right;\n",
       "  white-space: pre-wrap;\n",
       "}\n",
       "</style>\n",
       "<small>shape: (749, 3)</small><table border=\"1\" class=\"dataframe\"><thead><tr><th>country</th><th>count</th><th>release_year_median</th></tr><tr><td>str</td><td>u32</td><td>f64</td></tr></thead><tbody><tr><td>&quot;United Kingdom,&quot;</td><td>2</td><td>2017.0</td></tr><tr><td>&quot;Uruguay, Argentina, Spain&quot;</td><td>1</td><td>2018.0</td></tr><tr><td>&quot;Germany, Jordan, Netherlands&quot;</td><td>1</td><td>2016.0</td></tr><tr><td>&quot;United Kingdom, Germany, Unite…</td><td>1</td><td>2020.0</td></tr><tr><td>&quot;United States, United Kingdom,…</td><td>1</td><td>2009.0</td></tr><tr><td>&hellip;</td><td>&hellip;</td><td>&hellip;</td></tr><tr><td>&quot;United States, Italy, Romania,…</td><td>1</td><td>2003.0</td></tr><tr><td>&quot;Chile, France&quot;</td><td>1</td><td>2016.0</td></tr><tr><td>&quot;United States, Senegal&quot;</td><td>1</td><td>2015.0</td></tr><tr><td>&quot;United States, China, Colombia&quot;</td><td>1</td><td>2018.0</td></tr><tr><td>&quot;Ireland, France, Iceland, Unit…</td><td>1</td><td>2019.0</td></tr></tbody></table></div>"
      ],
      "text/plain": [
       "shape: (749, 3)\n",
       "┌─────────────────────────────────┬───────┬─────────────────────┐\n",
       "│ country                         ┆ count ┆ release_year_median │\n",
       "│ ---                             ┆ ---   ┆ ---                 │\n",
       "│ str                             ┆ u32   ┆ f64                 │\n",
       "╞═════════════════════════════════╪═══════╪═════════════════════╡\n",
       "│ United Kingdom,                 ┆ 2     ┆ 2017.0              │\n",
       "│ Uruguay, Argentina, Spain       ┆ 1     ┆ 2018.0              │\n",
       "│ Germany, Jordan, Netherlands    ┆ 1     ┆ 2016.0              │\n",
       "│ United Kingdom, Germany, Unite… ┆ 1     ┆ 2020.0              │\n",
       "│ United States, United Kingdom,… ┆ 1     ┆ 2009.0              │\n",
       "│ …                               ┆ …     ┆ …                   │\n",
       "│ United States, Italy, Romania,… ┆ 1     ┆ 2003.0              │\n",
       "│ Chile, France                   ┆ 1     ┆ 2016.0              │\n",
       "│ United States, Senegal          ┆ 1     ┆ 2015.0              │\n",
       "│ United States, China, Colombia  ┆ 1     ┆ 2018.0              │\n",
       "│ Ireland, France, Iceland, Unit… ┆ 1     ┆ 2019.0              │\n",
       "└─────────────────────────────────┴───────┴─────────────────────┘"
      ]
     },
     "execution_count": 5,
     "metadata": {},
     "output_type": "execute_result"
    }
   ],
   "source": [
    "# simple manipulation (df / eager)\n",
    "df2 = df \\\n",
    "    .group_by('country') \\\n",
    "    .agg([\n",
    "        pl.len().alias('count'),\n",
    "        pl.median('release_year').alias('release_year_median')\n",
    "    ])\n",
    "df2"
   ]
  },
  {
   "cell_type": "code",
   "execution_count": 6,
   "id": "d1f8a656",
   "metadata": {},
   "outputs": [
    {
     "data": {
      "text/html": [
       "<div><style>\n",
       ".dataframe > thead > tr,\n",
       ".dataframe > tbody > tr {\n",
       "  text-align: right;\n",
       "  white-space: pre-wrap;\n",
       "}\n",
       "</style>\n",
       "<small>shape: (2, 2)</small><table border=\"1\" class=\"dataframe\"><thead><tr><th>type</th><th>len</th></tr><tr><td>str</td><td>u32</td></tr></thead><tbody><tr><td>&quot;TV Show&quot;</td><td>2676</td></tr><tr><td>&quot;Movie&quot;</td><td>6131</td></tr></tbody></table></div>"
      ],
      "text/plain": [
       "shape: (2, 2)\n",
       "┌─────────┬──────┐\n",
       "│ type    ┆ len  │\n",
       "│ ---     ┆ ---  │\n",
       "│ str     ┆ u32  │\n",
       "╞═════════╪══════╡\n",
       "│ TV Show ┆ 2676 │\n",
       "│ Movie   ┆ 6131 │\n",
       "└─────────┴──────┘"
      ]
     },
     "execution_count": 6,
     "metadata": {},
     "output_type": "execute_result"
    }
   ],
   "source": [
    "# simple manipulation (sql / lazy)\n",
    "df3 = df_lazy.sql(\n",
    "    'select type, count(*) from self group by type'\n",
    ")\n",
    "df3.collect()"
   ]
  }
 ],
 "metadata": {
  "jupytext": {
   "cell_metadata_filter": "-all",
   "main_language": "python",
   "notebook_metadata_filter": "-all"
  },
  "kernelspec": {
   "display_name": "Python 3",
   "language": "python",
   "name": "python3"
  },
  "language_info": {
   "codemirror_mode": {
    "name": "ipython",
    "version": 3
   },
   "file_extension": ".py",
   "mimetype": "text/x-python",
   "name": "python",
   "nbconvert_exporter": "python",
   "pygments_lexer": "ipython3",
   "version": "3.12.5"
  }
 },
 "nbformat": 4,
 "nbformat_minor": 5
}
