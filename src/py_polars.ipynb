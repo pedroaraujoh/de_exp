{
 "cells": [
  {
   "cell_type": "code",
   "execution_count": 2,
   "id": "631246b5",
   "metadata": {
    "lines_to_next_cell": 0
   },
   "outputs": [],
   "source": [
    "# import libs\n",
    "import kaggle\n",
    "import polars as pl\n",
    "import duckdb"
   ]
  },
  {
   "cell_type": "code",
   "execution_count": 3,
   "id": "5339ac96",
   "metadata": {
    "lines_to_next_cell": 0
   },
   "outputs": [
    {
     "name": "stdout",
     "output_type": "stream",
     "text": [
      "Dataset URL: https://www.kaggle.com/datasets/anandshaw2001/netflix-movies-and-tv-shows\n"
     ]
    }
   ],
   "source": [
    "# download dataset\n",
    "dataset = 'anandshaw2001/netflix-movies-and-tv-shows'\n",
    "path = f'C:/Users/pedro/Documents/Kaggle/{dataset}'\n",
    "file = 'netflix_titles.csv'\n",
    "kaggle.api.dataset_download_files(\n",
    "    dataset, \n",
    "    path=path,\n",
    "    unzip=True)"
   ]
  },
  {
   "cell_type": "markdown",
   "id": "69a649b3",
   "metadata": {},
   "source": [
    "# Polars"
   ]
  },
  {
   "cell_type": "code",
   "execution_count": 4,
   "id": "2458eedb",
   "metadata": {
    "lines_to_next_cell": 0
   },
   "outputs": [],
   "source": [
    "# load to polars abordagem eager\n",
    "df = pl.read_csv(\n",
    "    f'{path}/{file}'\n",
    ")\n",
    "\n",
    "# load to polars abordagem lazy\n",
    "df_lazy = pl.scan_csv(\n",
    "    f'{path}/{file}'\n",
    ")"
   ]
  },
  {
   "cell_type": "code",
   "execution_count": 5,
   "id": "1600327d",
   "metadata": {
    "lines_to_next_cell": 0
   },
   "outputs": [
    {
     "data": {
      "text/html": [
       "<div><style>\n",
       ".dataframe > thead > tr,\n",
       ".dataframe > tbody > tr {\n",
       "  text-align: right;\n",
       "  white-space: pre-wrap;\n",
       "}\n",
       "</style>\n",
       "<small>shape: (2, 2)</small><table border=\"1\" class=\"dataframe\"><thead><tr><th>type</th><th>count</th></tr><tr><td>str</td><td>u32</td></tr></thead><tbody><tr><td>&quot;Movie&quot;</td><td>6131</td></tr><tr><td>&quot;TV Show&quot;</td><td>2676</td></tr></tbody></table></div>"
      ],
      "text/plain": [
       "shape: (2, 2)\n",
       "┌─────────┬───────┐\n",
       "│ type    ┆ count │\n",
       "│ ---     ┆ ---   │\n",
       "│ str     ┆ u32   │\n",
       "╞═════════╪═══════╡\n",
       "│ Movie   ┆ 6131  │\n",
       "│ TV Show ┆ 2676  │\n",
       "└─────────┴───────┘"
      ]
     },
     "execution_count": 5,
     "metadata": {},
     "output_type": "execute_result"
    }
   ],
   "source": [
    "# simple manipulation (df / eager)\n",
    "df2 = df \\\n",
    "    .group_by('type') \\\n",
    "    .agg(pl.len().alias('count'))\n",
    "df2"
   ]
  },
  {
   "cell_type": "code",
   "execution_count": 6,
   "id": "d1f8a656",
   "metadata": {},
   "outputs": [
    {
     "data": {
      "text/html": [
       "<div><style>\n",
       ".dataframe > thead > tr,\n",
       ".dataframe > tbody > tr {\n",
       "  text-align: right;\n",
       "  white-space: pre-wrap;\n",
       "}\n",
       "</style>\n",
       "<small>shape: (2, 2)</small><table border=\"1\" class=\"dataframe\"><thead><tr><th>type</th><th>len</th></tr><tr><td>str</td><td>u32</td></tr></thead><tbody><tr><td>&quot;Movie&quot;</td><td>6131</td></tr><tr><td>&quot;TV Show&quot;</td><td>2676</td></tr></tbody></table></div>"
      ],
      "text/plain": [
       "shape: (2, 2)\n",
       "┌─────────┬──────┐\n",
       "│ type    ┆ len  │\n",
       "│ ---     ┆ ---  │\n",
       "│ str     ┆ u32  │\n",
       "╞═════════╪══════╡\n",
       "│ Movie   ┆ 6131 │\n",
       "│ TV Show ┆ 2676 │\n",
       "└─────────┴──────┘"
      ]
     },
     "execution_count": 6,
     "metadata": {},
     "output_type": "execute_result"
    }
   ],
   "source": [
    "# simple manipulation (sql / lazy)\n",
    "df3 = df_lazy.sql(\n",
    "    'select type, count(*) from self group by type'\n",
    ")\n",
    "df3.collect()"
   ]
  },
  {
   "cell_type": "markdown",
   "id": "89707847",
   "metadata": {},
   "source": [
    "# DuckDB"
   ]
  },
  {
   "cell_type": "code",
   "execution_count": null,
   "id": "7aa93aa4",
   "metadata": {},
   "outputs": [],
   "source": [
    "duck.sql(select)"
   ]
  },
  {
   "cell_type": "code",
   "execution_count": 7,
   "id": "884f5d20",
   "metadata": {},
   "outputs": [
    {
     "data": {
      "text/plain": [
       "duckdb.duckdb.DuckDBPyRelation"
      ]
     },
     "execution_count": 7,
     "metadata": {},
     "output_type": "execute_result"
    }
   ],
   "source": [
    "x = duckdb.read_csv(f'{path}/*.csv')\n",
    "type(x)"
   ]
  },
  {
   "cell_type": "code",
   "execution_count": 17,
   "id": "062f65ed",
   "metadata": {},
   "outputs": [
    {
     "data": {
      "text/plain": [
       "┌─────────┬──────────────┐\n",
       "│  type   │ count_star() │\n",
       "│ varchar │    int64     │\n",
       "├─────────┼──────────────┤\n",
       "│ Movie   │        12262 │\n",
       "│ TV Show │         5352 │\n",
       "└─────────┴──────────────┘"
      ]
     },
     "execution_count": 17,
     "metadata": {},
     "output_type": "execute_result"
    }
   ],
   "source": [
    "y = duckdb.sql(\"\"\"\n",
    "    select type, count(*) from x group by all\n",
    "\"\"\")\n",
    "y.create_view('test_view')\n",
    "duckdb.sql(\"\"\"\n",
    "           select\n",
    "    select * from test_view\n",
    "    union\n",
    "    \n",
    "\"\"\")"
   ]
  },
  {
   "cell_type": "code",
   "execution_count": 22,
   "id": "b82a2a12",
   "metadata": {},
   "outputs": [
    {
     "data": {
      "text/html": [
       "<div><style>\n",
       ".dataframe > thead > tr,\n",
       ".dataframe > tbody > tr {\n",
       "  text-align: right;\n",
       "  white-space: pre-wrap;\n",
       "}\n",
       "</style>\n",
       "<small>shape: (2, 2)</small><table border=\"1\" class=\"dataframe\"><thead><tr><th>type</th><th>count_star()</th></tr><tr><td>str</td><td>i64</td></tr></thead><tbody><tr><td>&quot;Movie&quot;</td><td>12262</td></tr><tr><td>&quot;TV Show&quot;</td><td>5352</td></tr></tbody></table></div>"
      ],
      "text/plain": [
       "shape: (2, 2)\n",
       "┌─────────┬──────────────┐\n",
       "│ type    ┆ count_star() │\n",
       "│ ---     ┆ ---          │\n",
       "│ str     ┆ i64          │\n",
       "╞═════════╪══════════════╡\n",
       "│ Movie   ┆ 12262        │\n",
       "│ TV Show ┆ 5352         │\n",
       "└─────────┴──────────────┘"
      ]
     },
     "execution_count": 22,
     "metadata": {},
     "output_type": "execute_result"
    }
   ],
   "source": [
    "y.pl()"
   ]
  },
  {
   "cell_type": "code",
   "execution_count": 9,
   "id": "550ebf6b",
   "metadata": {},
   "outputs": [],
   "source": [
    "# y.to_csv('new_file.csv')"
   ]
  },
  {
   "cell_type": "code",
   "execution_count": 10,
   "id": "89ea68c8",
   "metadata": {},
   "outputs": [
    {
     "data": {
      "text/plain": [
       "┌──────────────┐\n",
       "│   machaca    │\n",
       "│   varchar    │\n",
       "├──────────────┤\n",
       "│ hello world! │\n",
       "└──────────────┘"
      ]
     },
     "execution_count": 10,
     "metadata": {},
     "output_type": "execute_result"
    }
   ],
   "source": [
    "duckdb.sql(\"select 'hello world!' as machaca\")"
   ]
  }
 ],
 "metadata": {
  "jupytext": {
   "cell_metadata_filter": "-all",
   "main_language": "python",
   "notebook_metadata_filter": "-all"
  },
  "kernelspec": {
   "display_name": "Python 3",
   "language": "python",
   "name": "python3"
  },
  "language_info": {
   "codemirror_mode": {
    "name": "ipython",
    "version": 3
   },
   "file_extension": ".py",
   "mimetype": "text/x-python",
   "name": "python",
   "nbconvert_exporter": "python",
   "pygments_lexer": "ipython3",
   "version": "3.12.5"
  }
 },
 "nbformat": 4,
 "nbformat_minor": 5
}
