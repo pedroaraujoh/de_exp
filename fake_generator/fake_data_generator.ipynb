{
 "cells": [
  {
   "cell_type": "code",
   "execution_count": null,
   "metadata": {},
   "outputs": [
    {
     "name": "stdout",
     "output_type": "stream",
     "text": [
      "Requirement already satisfied: Faker in c:\\users\\pedro\\appdata\\local\\programs\\python\\python312\\lib\\site-packages (36.1.1)\n",
      "Requirement already satisfied: Polars in c:\\users\\pedro\\appdata\\local\\programs\\python\\python312\\lib\\site-packages (1.21.0)\n",
      "Requirement already satisfied: tzdata in c:\\users\\pedro\\appdata\\local\\programs\\python\\python312\\lib\\site-packages (from Faker) (2024.1)\n"
     ]
    }
   ],
   "source": [
    "%pip install Faker Polars"
   ]
  },
  {
   "cell_type": "code",
   "execution_count": 2,
   "metadata": {},
   "outputs": [],
   "source": [
    "from faker import Faker\n",
    "from datetime import datetime, timezone\n",
    "import random\n",
    "import polars as pl"
   ]
  },
  {
   "cell_type": "code",
   "execution_count": 3,
   "metadata": {},
   "outputs": [],
   "source": [
    "fake = Faker('pt_BR')\n",
    "\n",
    "now = datetime.now(timezone.utc)"
   ]
  },
  {
   "cell_type": "code",
   "execution_count": null,
   "metadata": {},
   "outputs": [],
   "source": [
    "len = random.randint(10, 20)\n",
    "\n",
    "names = [fake.name() for _ in range(len)]\n",
    "dates = [fake.date() for _ in range(len)]\n",
    "states = [fake.state() for _ in range(len)]\n",
    "colors = [fake.color_name() for _ in range(len)]\n",
    "phrases = [fake.catch_phrase_verb() for _ in range(len)]\n",
    "ages = [str(random.randint(1, 110)) for _ in range(len)]\n",
    "\n",
    "timestamp = now.strftime(\"%Y-%m-%d %H:%M:%S %z\")"
   ]
  },
  {
   "cell_type": "code",
   "execution_count": 7,
   "metadata": {},
   "outputs": [],
   "source": [
    "df = pl.DataFrame({\n",
    "    \"name\": names,\n",
    "    \"date\": dates,\n",
    "    \"state\": states,\n",
    "    \"color\": colors,\n",
    "    \"phrase\": phrases,\n",
    "    \"age\": ages,\n",
    "    \"exec_timestamp\": timestamp\n",
    "})"
   ]
  },
  {
   "cell_type": "code",
   "execution_count": null,
   "metadata": {},
   "outputs": [],
   "source": [
    "date = now.strftime(\"%Y_%m_%d_%H_%M_%S\")\n",
    "file_name = f\"fake_data_{date}.csv\"\n",
    "file_path = \"C:/Users/pedro/Documents/Github/de_exp/de_exp/fake_generator/\"\n",
    "\n",
    "df.write_csv(file_path + file_name)"
   ]
  }
 ],
 "metadata": {
  "kernelspec": {
   "display_name": "Python 3",
   "language": "python",
   "name": "python3"
  },
  "language_info": {
   "codemirror_mode": {
    "name": "ipython",
    "version": 3
   },
   "file_extension": ".py",
   "mimetype": "text/x-python",
   "name": "python",
   "nbconvert_exporter": "python",
   "pygments_lexer": "ipython3",
   "version": "3.12.5"
  }
 },
 "nbformat": 4,
 "nbformat_minor": 2
}
