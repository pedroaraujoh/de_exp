{
 "cells": [
  {
   "cell_type": "code",
   "execution_count": 1,
   "id": "e3842088",
   "metadata": {
    "execution": {
     "iopub.execute_input": "2025-02-22T17:05:27.997253Z",
     "iopub.status.busy": "2025-02-22T17:05:27.997253Z",
     "iopub.status.idle": "2025-02-22T17:05:28.001794Z",
     "shell.execute_reply": "2025-02-22T17:05:28.001284Z"
    },
    "papermill": {
     "duration": 0.008549,
     "end_time": "2025-02-22T17:05:28.002800",
     "exception": false,
     "start_time": "2025-02-22T17:05:27.994251",
     "status": "completed"
    },
    "tags": []
   },
   "outputs": [],
   "source": [
    "#!pip install Faker Polars"
   ]
  },
  {
   "cell_type": "code",
   "execution_count": 2,
   "id": "73425a33",
   "metadata": {
    "execution": {
     "iopub.execute_input": "2025-02-22T17:05:28.006407Z",
     "iopub.status.busy": "2025-02-22T17:05:28.006407Z",
     "iopub.status.idle": "2025-02-22T17:05:28.228878Z",
     "shell.execute_reply": "2025-02-22T17:05:28.228878Z"
    },
    "papermill": {
     "duration": 0.22548,
     "end_time": "2025-02-22T17:05:28.229884",
     "exception": false,
     "start_time": "2025-02-22T17:05:28.004404",
     "status": "completed"
    },
    "tags": []
   },
   "outputs": [],
   "source": [
    "from faker import Faker\n",
    "from datetime import datetime, timezone\n",
    "import random\n",
    "import polars as pl"
   ]
  },
  {
   "cell_type": "code",
   "execution_count": 3,
   "id": "26b11354",
   "metadata": {
    "execution": {
     "iopub.execute_input": "2025-02-22T17:05:28.233517Z",
     "iopub.status.busy": "2025-02-22T17:05:28.233517Z",
     "iopub.status.idle": "2025-02-22T17:05:28.307845Z",
     "shell.execute_reply": "2025-02-22T17:05:28.307845Z"
    },
    "papermill": {
     "duration": 0.07696,
     "end_time": "2025-02-22T17:05:28.308850",
     "exception": false,
     "start_time": "2025-02-22T17:05:28.231890",
     "status": "completed"
    },
    "tags": []
   },
   "outputs": [],
   "source": [
    "fake = Faker('pt_BR')\n",
    "\n",
    "now = datetime.now(timezone.utc)"
   ]
  },
  {
   "cell_type": "code",
   "execution_count": 4,
   "id": "c3dbc856",
   "metadata": {
    "execution": {
     "iopub.execute_input": "2025-02-22T17:05:28.311911Z",
     "iopub.status.busy": "2025-02-22T17:05:28.311911Z",
     "iopub.status.idle": "2025-02-22T17:05:28.315749Z",
     "shell.execute_reply": "2025-02-22T17:05:28.315749Z"
    },
    "papermill": {
     "duration": 0.006909,
     "end_time": "2025-02-22T17:05:28.316758",
     "exception": false,
     "start_time": "2025-02-22T17:05:28.309849",
     "status": "completed"
    },
    "tags": []
   },
   "outputs": [],
   "source": [
    "len = random.randint(10, 20)\n",
    "\n",
    "names = [fake.name() for _ in range(len)]\n",
    "dates = [fake.date() for _ in range(len)]\n",
    "states = [fake.state() for _ in range(len)]\n",
    "colors = [fake.color_name() for _ in range(len)]\n",
    "phrases = [fake.catch_phrase_verb() for _ in range(len)]\n",
    "ages = [str(random.randint(1, 110)) for _ in range(len)]\n",
    "\n",
    "timestamp = now.strftime('%Y-%m-%d %H:%M:%S %z')"
   ]
  },
  {
   "cell_type": "code",
   "execution_count": 5,
   "id": "035846eb",
   "metadata": {
    "execution": {
     "iopub.execute_input": "2025-02-22T17:05:28.319754Z",
     "iopub.status.busy": "2025-02-22T17:05:28.319754Z",
     "iopub.status.idle": "2025-02-22T17:05:28.322917Z",
     "shell.execute_reply": "2025-02-22T17:05:28.322917Z"
    },
    "papermill": {
     "duration": 0.006169,
     "end_time": "2025-02-22T17:05:28.323922",
     "exception": false,
     "start_time": "2025-02-22T17:05:28.317753",
     "status": "completed"
    },
    "tags": []
   },
   "outputs": [],
   "source": [
    "df = pl.DataFrame({\n",
    "    \"name\": names,\n",
    "    \"date\": dates,\n",
    "    \"state\": states,\n",
    "    \"color\": colors,\n",
    "    \"phrase\": phrases,\n",
    "    \"age\": ages,\n",
    "    \"exec_timestamp\": timestamp\n",
    "})"
   ]
  },
  {
   "cell_type": "code",
   "execution_count": 6,
   "id": "46f4804e",
   "metadata": {
    "execution": {
     "iopub.execute_input": "2025-02-22T17:05:28.326922Z",
     "iopub.status.busy": "2025-02-22T17:05:28.325921Z",
     "iopub.status.idle": "2025-02-22T17:05:28.336969Z",
     "shell.execute_reply": "2025-02-22T17:05:28.336969Z"
    },
    "papermill": {
     "duration": 0.013054,
     "end_time": "2025-02-22T17:05:28.337975",
     "exception": false,
     "start_time": "2025-02-22T17:05:28.324921",
     "status": "completed"
    },
    "tags": []
   },
   "outputs": [],
   "source": [
    "date = now.strftime('%Y_%m_%d')\n",
    "file_name = f\"fake_data_{date}.csv\"\n",
    "file_path = \"C:/Users/pedro/Documents/Github/de_exp/de_exp/fake_generator/\"\n",
    "\n",
    "df.write_csv(file_path + file_name)"
   ]
  }
 ],
 "metadata": {
  "kernelspec": {
   "display_name": "Python 3",
   "language": "python",
   "name": "python3"
  },
  "language_info": {
   "codemirror_mode": {
    "name": "ipython",
    "version": 3
   },
   "file_extension": ".py",
   "mimetype": "text/x-python",
   "name": "python",
   "nbconvert_exporter": "python",
   "pygments_lexer": "ipython3",
   "version": "3.12.5"
  },
  "papermill": {
   "default_parameters": {},
   "duration": 2.106137,
   "end_time": "2025-02-22T17:05:28.479752",
   "environment_variables": {},
   "exception": null,
   "input_path": "C:/Users/pedro/Documents/Github/de_exp/de_exp/fake_generator/fake_data_generator.ipynb",
   "output_path": "C:/Users/pedro/Documents/Github/de_exp/de_exp/fake_generator/dagster_output/execution_output.ipynb",
   "parameters": {},
   "start_time": "2025-02-22T17:05:26.373615",
   "version": "2.6.0"
  }
 },
 "nbformat": 4,
 "nbformat_minor": 5
}